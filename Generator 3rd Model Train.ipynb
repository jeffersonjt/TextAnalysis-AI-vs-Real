{
 "cells": [
  {
   "cell_type": "code",
   "execution_count": null,
   "id": "10247cc2",
   "metadata": {},
   "outputs": [],
   "source": [
    "!pip install transformers"
   ]
  },
  {
   "cell_type": "code",
   "execution_count": null,
   "id": "41af45af",
   "metadata": {},
   "outputs": [],
   "source": [
    "import torch\n",
    "from transformers import GPT2LMHeadModel, GPT2Tokenizer\n",
    "\n",
    "device = \"cpu\" \n",
    "tokenizer = GPT2Tokenizer.from_pretrained(\"gpt2\")\n",
    "tokenizer.pad_token = tokenizer.eos_token\n",
    "\n",
    "model = GPT2LMHeadModel.from_pretrained(\"gpt2\")\n",
    "model = model.to(device)\n",
    "print(device)\n",
    "\n",
    "#print(tokenizer.decode(model.generate(**tokenizer(\"ive never played basketball so\",return_tensors=\"pt\"))[0]))"
   ]
  },
  {
   "cell_type": "code",
   "execution_count": null,
   "id": "a4b6c1a1",
   "metadata": {},
   "outputs": [],
   "source": [
    "tokenizer.pad_token = tokenizer.eos_token;"
   ]
  },
  {
   "cell_type": "code",
   "execution_count": null,
   "id": "80a22a5c",
   "metadata": {},
   "outputs": [],
   "source": [
    "from torch.utils.data import Dataset\n",
    "import pandas as pd\n",
    "from torch.optim import Adam\n",
    "from torch.utils.data import DataLoader\n",
    "\n",
    "\n",
    "class amazon_data(Dataset):\n",
    "    def __init__(self):\n",
    "        df = pd.read_csv(\"amazon_review_test_full.csv\",header=None,nrows = 100000)\n",
    "        df = df.drop(columns=[0])\n",
    "\n",
    "        df['text'] = df[2]\n",
    "        df_final = df.drop(columns=[1,2])\n",
    "                                \n",
    "        reviews = df_final[\"text\"].tolist()\n",
    "        reviews = [str(review) for review in reviews]\n",
    "        self.data = reviews\n",
    "                                \n",
    "        self.X = self.data\n",
    "        self.X_encoded = tokenizer(self.data,max_length = 100,truncation = True,padding = \"max_length\",return_tensors = \"pt\")\n",
    "        self.input_ids = self.X_encoded['input_ids']\n",
    "        self.attention_mask = self.X_encoded['attention_mask']\n",
    "            \n",
    "    def __len__(self):\n",
    "        return len(self.X)\n",
    "    \n",
    "    def __getitem__(self, idx):\n",
    "        return (self.input_ids[idx],self.attention_mask[idx])\n",
    "    \n",
    "        \n",
    "        \n",
    "    \n",
    "\n",
    "model.train()\n",
    "\n",
    "\n",
    "optim = Adam(model.parameters(),lr = 1e-3)\n",
    "amazon_data = amazon_data()\n",
    "amazon_data = DataLoader(amazon_data,batch_size = 64)  "
   ]
  },
  {
   "cell_type": "code",
   "execution_count": null,
   "id": "9c05e2ee",
   "metadata": {},
   "outputs": [],
   "source": [
    "from tqdm import tqdm\n",
    "import torch\n",
    "  \n",
    "def train(amazon_data, model, optim):\n",
    "    epochs = 10\n",
    "    \n",
    "    for i in tqdm(range(epochs)):\n",
    "        for X,a in amazon_data:\n",
    "            X = X.to(device)\n",
    "            a = a.to(device)\n",
    "            optim.zero_grad()\n",
    "            \n",
    "            loss = model(X, attention_mask = a, labels = X).loss\n",
    "            loss.backward()\n",
    "            optim.step()\n",
    "        torch.save(model.state_dict(),\"model_state_random_train.pt\")\n",
    "        print(infer(\"I really \"))\n",
    "            \n",
    "def infer(inp):\n",
    "    inp = tokenizer(inp,return_tensors = \"pt\");\n",
    "    X = inp[\"input_ids\"].to(device) \n",
    "    a = inp[\"attention_mask\"].to(device)\n",
    "    output = model.generate(X,attention_mask = a,\n",
    "                            max_length=300,\n",
    "                            do_sample=True,\n",
    "                            top_p=0.95,\n",
    "                            top_k=50,\n",
    "                            temperature=1.0,\n",
    "                            num_return_sequences=1)\n",
    "    output = tokenizer.decode(output[0])\n",
    "    return output"
   ]
  },
  {
   "cell_type": "code",
   "execution_count": null,
   "id": "79bb5983",
   "metadata": {},
   "outputs": [],
   "source": [
    "train(amazon_data,model,optim)"
   ]
  }
 ],
 "metadata": {
  "kernelspec": {
   "display_name": "Python 3 (ipykernel)",
   "language": "python",
   "name": "python3"
  },
  "language_info": {
   "codemirror_mode": {
    "name": "ipython",
    "version": 3
   },
   "file_extension": ".py",
   "mimetype": "text/x-python",
   "name": "python",
   "nbconvert_exporter": "python",
   "pygments_lexer": "ipython3",
   "version": "3.9.1"
  }
 },
 "nbformat": 4,
 "nbformat_minor": 5
}
